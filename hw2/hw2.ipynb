{
 "cells": [
  {
   "cell_type": "markdown",
   "metadata": {},
   "source": [
    "## Homework 2\n",
    "- 讀檔、準備各個task需要的資料\n",
    "- x_train, y_train, x_test, y_test: 原始資料\n",
    "- x_train_std, x_test_std: 所有特徵被標準化的x\n",
    "- x_train_std2, x_test_std2: 只有實數特徵被標準化的x\n",
    "- y_train_shift: de-mean後的y\n",
    "- alpha_list: 所有待測試的$\\alpha$"
   ]
  },
  {
   "cell_type": "code",
   "execution_count": 92,
   "metadata": {},
   "outputs": [],
   "source": [
    "import numpy as np\n",
    "from sklearn.linear_model import LinearRegression\n",
    "from sklearn.linear_model import Ridge\n",
    "from sklearn.linear_model import Lasso\n",
    "import matplotlib.pyplot as plt\n",
    "\n",
    "load = np.loadtxt(\"C:\\\\Users\\\\tim_ezemnng\\\\Desktop\\\\StatLearn\\\\Homeworks\\\\hw2\\\\df1_train.csv\" ,dtype = np.str, delimiter=\",\")\n",
    "arr = np.array(load)\n",
    "load2 = np.loadtxt(\"C:\\\\Users\\\\tim_ezemnng\\\\Desktop\\\\StatLearn\\\\Homeworks\\\\hw2\\\\df1_test1.csv\" ,dtype = np.str, delimiter=\",\")\n",
    "arr2 = np.array(load2)\n",
    "load3 = np.loadtxt(\"C:\\\\Users\\\\tim_ezemnng\\\\Desktop\\\\StatLearn\\\\Homeworks\\\\hw2\\\\df1_test1y.csv\" ,dtype = np.str, delimiter=\",\")\n",
    "arr3 = np.array(load3)\n",
    "\n",
    "x_train = arr[1:, 1:].astype(np.float)\n",
    "y_train = arr[1:, 0].astype(np.float)\n",
    "x_test = arr2[1:, 0:].astype(np.float)\n",
    "y_test = arr3[1:].astype(np.float)\n",
    "\n",
    "x_train_std = x_train.copy()\n",
    "x_train_std = np.transpose(x_train_std)\n",
    "\n",
    "x_train_std2 = x_train.copy()\n",
    "x_train_std2 = np.transpose(x_train_std2)\n",
    "\n",
    "x_test_std = x_test.copy()\n",
    "x_test_std = np.transpose(x_test_std)\n",
    "\n",
    "x_test_std2 = x_test.copy()\n",
    "x_test_std2 = np.transpose(x_test_std2)\n",
    "\n",
    "x_mean = np.array([])\n",
    "x_std = np.array([])\n",
    "\n",
    "for i in range(0, 43):\n",
    "    mean = np.mean(x_train_std[i])\n",
    "    std = np.std(x_train_std[i])\n",
    "    x_train_std[i] = (x_train_std[i] - mean) / std\n",
    "    if i in [0, 2, 3, 4, 5, 6, 7]:\n",
    "        x_train_std2[i] = (x_train_std2[i] - mean) / std\n",
    "    x_mean = np.append(x_mean, mean)\n",
    "    x_std = np.append(x_std, std)\n",
    "    \n",
    "x_train_std = np.transpose(x_train_std)\n",
    "x_train_std2 = np.transpose(x_train_std2)\n",
    "\n",
    "for i in range(0, 43):\n",
    "    x_test_std[i] = (x_test_std[i] - x_mean[i]) / x_std[i]\n",
    "    if i in [0, 2, 3, 4, 5, 6, 7]:\n",
    "        x_test_std2[i] = (x_test_std2[i] - x_mean[i]) / x_std[i]\n",
    "x_test_std = np.transpose(x_test_std) #\n",
    "x_test_std2 = np.transpose(x_test_std2)\n",
    "\n",
    "y_mean = np.mean(y_train)\n",
    "y_std = np.std(y_train)\n",
    "y_train_shift = y_train - y_mean\n",
    "\n",
    "alpha_list = [0.01, 0.1, 1, 5, 10, 20, 50, 100, 500, 1000]\n",
    "\n"
   ]
  },
  {
   "cell_type": "markdown",
   "metadata": {},
   "source": [
    "- Q1\n",
    "    - 計算y_train的均數、標準差\n",
    "    - 計算實數特徵與y的相關程度"
   ]
  },
  {
   "cell_type": "code",
   "execution_count": 107,
   "metadata": {},
   "outputs": [
    {
     "name": "stdout",
     "output_type": "stream",
     "text": [
      "y_mean = 810.34\n",
      "y_std = 897.9127515521761\n",
      "\n",
      "Correlation coefficient of features:\n",
      "\n",
      "page_like: -0.1654730483535547\n",
      "reach: 0.4813246546658809\n",
      "impression_liked: 0.21041760461992395\n",
      "reach_liked: 0.47876588845671786\n",
      "comment: 0.30087102969897145\n",
      "like: 0.30645998904384975\n",
      "share: 0.34195851673393385\n"
     ]
    }
   ],
   "source": [
    "print(\"y_mean =\", y_mean)\n",
    "print(\"y_std =\", y_std)\n",
    "print(\"\")\n",
    "x_feature = x_train.copy()\n",
    "x_feature = np.transpose(x_feature)\n",
    "corr = []\n",
    "for i in [0, 2, 3, 4, 5, 6, 7]:\n",
    "    corr.append(np.corrcoef(x_feature[i], y_train)[0][1])\n",
    "\n",
    "labels = ['page_like', 'reach', 'impression_liked', 'reach_liked', 'comment', 'like', 'share']\n",
    "\n",
    "print(\"Correlation coefficient of features:\\n\")\n",
    "for i in range(0, 7):\n",
    "    print(labels[i] + \": \" + str(corr[i]))"
   ]
  },
  {
   "cell_type": "markdown",
   "metadata": {},
   "source": [
    "- y與reach, reach_liked, comment, like, share等特徵較相關"
   ]
  },
  {
   "cell_type": "markdown",
   "metadata": {},
   "source": [
    "- Q2:\n",
    "    - Use y_mean as prediction"
   ]
  },
  {
   "cell_type": "code",
   "execution_count": 91,
   "metadata": {},
   "outputs": [
    {
     "name": "stdout",
     "output_type": "stream",
     "text": [
      "RMSE: 928.8095109332162\n",
      "Prediction:\n",
      "[810.34 810.34 810.34 810.34 810.34 810.34 810.34 810.34 810.34 810.34\n",
      " 810.34 810.34 810.34 810.34 810.34 810.34 810.34 810.34 810.34 810.34]\n",
      "True outcome:\n",
      "[1183.  189. 2327.   76.  354.  713.  204.  288.  555.  586.  446.  884.\n",
      "  524.  672.   23.  570. 1361. 5934. 2319. 1633.]\n"
     ]
    }
   ],
   "source": [
    "y_pred1 = np.full(50, y_mean)\n",
    "\n",
    "RSS1 = np.sum((y_pred1 - y_test)**2)\n",
    "RMSE1 = (RSS1 / 50)**0.5\n",
    "\n",
    "print(\"RMSE:\", RMSE1)\n",
    "print(\"Prediction:\")\n",
    "print(y_pred1[0:20])\n",
    "print(\"True outcome:\")\n",
    "print(y_test[0:20])"
   ]
  },
  {
   "cell_type": "markdown",
   "metadata": {},
   "source": [
    "- Q3:\n",
    "    - OLS model without preprocessing"
   ]
  },
  {
   "cell_type": "code",
   "execution_count": 82,
   "metadata": {},
   "outputs": [
    {
     "name": "stdout",
     "output_type": "stream",
     "text": [
      "RMSE: 692.2891271355203\n",
      "Prediction:\n",
      "[ 781.57991507  315.92043112 2279.0848524  -136.34286373  302.35624062\n",
      "  462.42402368  321.67770824  504.52244767  505.89547104  488.36700578\n",
      "  392.61423519  388.9184671   804.87527509  634.32364432  176.31765618\n",
      "  645.72913809 1983.53858871 3144.39710045 4060.61071218 4288.22308099]\n",
      "True outcome:\n",
      "[1183.  189. 2327.   76.  354.  713.  204.  288.  555.  586.  446.  884.\n",
      "  524.  672.   23.  570. 1361. 5934. 2319. 1633.]\n"
     ]
    }
   ],
   "source": [
    "reg2 = LinearRegression()\n",
    "reg2.fit(x_train, y_train)\n",
    "y_pred2 = reg2.predict(x_test)\n",
    "\n",
    "RSS2 = np.sum((y_pred2 - y_test)**2)\n",
    "RMSE2 = (RSS2 / 50)**0.5\n",
    "\n",
    "print(\"RMSE:\", RMSE2)\n",
    "print(\"Prediction:\")\n",
    "print(y_pred2[0:20])\n",
    "print(\"True outcome:\")\n",
    "print(y_test[0:20])"
   ]
  },
  {
   "cell_type": "markdown",
   "metadata": {},
   "source": [
    "- Q4:\n",
    "    - OLS with y de-meaned"
   ]
  },
  {
   "cell_type": "code",
   "execution_count": 83,
   "metadata": {},
   "outputs": [
    {
     "name": "stdout",
     "output_type": "stream",
     "text": [
      "RMSE: 692.2891271353014\n",
      "Prediction:\n",
      "[ 781.57991507  315.92043112 2279.0848524  -136.34286373  302.35624062\n",
      "  462.42402368  321.67770824  504.52244768  505.89547104  488.36700578\n",
      "  392.61423519  388.9184671   804.87527509  634.32364432  176.31765619\n",
      "  645.7291381  1983.53858871 3144.39710045 4060.61071217 4288.22308099]\n",
      "True outcome:\n",
      "[1183.  189. 2327.   76.  354.  713.  204.  288.  555.  586.  446.  884.\n",
      "  524.  672.   23.  570. 1361. 5934. 2319. 1633.]\n"
     ]
    }
   ],
   "source": [
    "reg3 = LinearRegression()\n",
    "reg3.fit(x_train, y_train_shift)\n",
    "y_pred3 = reg3.predict(x_test) + y_mean\n",
    "\n",
    "RSS3 = np.sum((y_pred3 - y_test)**2)\n",
    "RMSE3 = (RSS3 / 50)**0.5\n",
    "\n",
    "print(\"RMSE:\", RMSE3)\n",
    "print(\"Prediction:\")\n",
    "print(y_pred3[0:20])\n",
    "print(\"True outcome:\")\n",
    "print(y_test[0:20])"
   ]
  },
  {
   "cell_type": "markdown",
   "metadata": {},
   "source": [
    "- Q5:\n",
    "    - OLS with features standardized and y de-meaned "
   ]
  },
  {
   "cell_type": "code",
   "execution_count": 84,
   "metadata": {},
   "outputs": [
    {
     "name": "stdout",
     "output_type": "stream",
     "text": [
      "RMSE: 692.2891271371991\n",
      "Prediction:\n",
      "[ 781.57991507  315.92043112 2279.0848524  -136.34286373  302.35624062\n",
      "  462.42402368  321.67770824  504.52244767  505.89547104  488.36700578\n",
      "  392.61423519  388.9184671   804.87527509  634.32364432  176.31765618\n",
      "  645.72913809 1983.53858871 3144.39710045 4060.61071219 4288.223081  ]\n",
      "True outcome:\n",
      "[1183.  189. 2327.   76.  354.  713.  204.  288.  555.  586.  446.  884.\n",
      "  524.  672.   23.  570. 1361. 5934. 2319. 1633.]\n"
     ]
    }
   ],
   "source": [
    "reg4 = LinearRegression()\n",
    "reg4.fit(x_train_std, y_train_shift)\n",
    "y_pred4 = reg4.predict(x_test_std) + y_mean\n",
    "\n",
    "RSS4 = np.sum((y_pred4 - y_test)**2)\n",
    "RMSE4 = (RSS4 / 50)**0.5\n",
    "\n",
    "print(\"RMSE:\", RMSE4)\n",
    "print(\"Prediction:\")\n",
    "print(y_pred4[0:20])\n",
    "print(\"True outcome:\")\n",
    "print(y_test[0:20])"
   ]
  },
  {
   "cell_type": "markdown",
   "metadata": {},
   "source": [
    "- Q6\n",
    "    - Ridge without preprocessing"
   ]
  },
  {
   "cell_type": "code",
   "execution_count": 85,
   "metadata": {},
   "outputs": [
    {
     "data": {
      "image/png": "[encoded data removed]",
      "text/plain": [
       "<matplotlib.figure.Figure at 0xf162330>"
      ]
     },
     "metadata": {
      "needs_background": "light"
     },
     "output_type": "display_data"
    },
    {
     "name": "stdout",
     "output_type": "stream",
     "text": [
      "Best test RMSE: 660.5612900111678\n",
      "Prediction using best alpha:\n",
      "[1068.33362385  229.7553192  2008.55889192 -102.8748995   541.45769947\n",
      "  606.45925756  414.98279829  602.81051442  500.18438508  492.30663558\n",
      "  508.37649961  409.13002153  730.46768043  561.0603282   294.45089723\n",
      "  602.48286746 1632.18271503 2698.88281782 3841.63152846 3892.40090903]\n",
      "True outcome:\n",
      "[1183.  189. 2327.   76.  354.  713.  204.  288.  555.  586.  446.  884.\n",
      "  524.  672.   23.  570. 1361. 5934. 2319. 1633.]\n"
     ]
    }
   ],
   "source": [
    "RMSE_List5 = []\n",
    "\n",
    "for i in alpha_list:\n",
    "    reg5 = Ridge(alpha = i)\n",
    "    reg5.fit(x_train, y_train)\n",
    "    y_pred5 = reg5.predict(x_test)\n",
    "    \n",
    "    RSS5 = np.sum((y_pred5 - y_test)**2)\n",
    "    RMSE5 = (RSS5 / 50)**0.5\n",
    "    RMSE_List5.append(RMSE5)\n",
    "\n",
    "reg5 = Ridge(alpha = alpha_list[RMSE_List5.index(min(RMSE_List5))] )\n",
    "reg5.fit(x_train, y_train)\n",
    "y_pred5 = reg5.predict(x_test)\n",
    "\n",
    "plt.plot(alpha_list, RMSE_List5)\n",
    "plt.show()\n",
    "print(\"Best test RMSE:\", min(RMSE_List5))\n",
    "print(\"Prediction using best alpha:\")\n",
    "print(y_pred5[0:20])\n",
    "print(\"True outcome:\")\n",
    "print(y_test[0:20])"
   ]
  },
  {
   "cell_type": "markdown",
   "metadata": {},
   "source": [
    "- Q7\n",
    "    - Ridge with real-number features standardized and y de-meaned"
   ]
  },
  {
   "cell_type": "code",
   "execution_count": 86,
   "metadata": {},
   "outputs": [
    {
     "data": {
      "image/png": "[encoded data removed]",
      "text/plain": [
       "<matplotlib.figure.Figure at 0xd866f70>"
      ]
     },
     "metadata": {
      "needs_background": "light"
     },
     "output_type": "display_data"
    },
    {
     "name": "stdout",
     "output_type": "stream",
     "text": [
      "Best test RMSE: 645.516812393874\n",
      "prediction using best alpha:\n",
      "[1142.26954234  254.15701492 1834.02488944   15.7181687   599.76366292\n",
      "  635.94038984  427.85644416  603.66205989  514.52378787  580.00106007\n",
      "  544.34176021  477.18442084  801.54554542  557.45287238  396.27886548\n",
      "  615.15152412 1474.67417376 2504.86437273 3524.85964481 3438.40343713]\n",
      "true outcome:\n",
      "[1183.  189. 2327.   76.  354.  713.  204.  288.  555.  586.  446.  884.\n",
      "  524.  672.   23.  570. 1361. 5934. 2319. 1633.]\n"
     ]
    }
   ],
   "source": [
    "RMSE_List6 = []\n",
    "\n",
    "for i in alpha_list:\n",
    "    reg6 = Ridge(alpha = i)\n",
    "    reg6.fit(x_train_std2, y_train_shift)\n",
    "    y_pred6 = reg6.predict(x_test_std2) + y_mean\n",
    "    \n",
    "    RSS6 = np.sum((y_pred6 - y_test)**2)\n",
    "    RMSE6 = (RSS6 / 50)**0.5\n",
    "    RMSE_List6.append(RMSE6)\n",
    "\n",
    "reg6 = Ridge(alpha = alpha_list[RMSE_List6.index(min(RMSE_List6))] )\n",
    "reg6.fit(x_train_std2, y_train_shift)\n",
    "y_pred6 = reg6.predict(x_test_std2) + y_mean\n",
    "\n",
    "plt.plot(alpha_list, RMSE_List6)\n",
    "plt.show()\n",
    "print(\"Best test RMSE:\", min(RMSE_List6))\n",
    "print(\"prediction using best alpha:\")\n",
    "print(y_pred6[0:20])\n",
    "print(\"true outcome:\")\n",
    "print(y_test[0:20])"
   ]
  },
  {
   "cell_type": "markdown",
   "metadata": {},
   "source": [
    "- Q8\n",
    "    - Ridge with y de-meaned"
   ]
  },
  {
   "cell_type": "code",
   "execution_count": 108,
   "metadata": {},
   "outputs": [
    {
     "data": {
      "image/png": "[encoded data removed]",
      "text/plain": [
       "<matplotlib.figure.Figure at 0xb5302b0>"
      ]
     },
     "metadata": {
      "needs_background": "light"
     },
     "output_type": "display_data"
    },
    {
     "name": "stdout",
     "output_type": "stream",
     "text": [
      "Best test RMSE: 660.561290011168\n",
      "Prediction using best alpha:\n",
      "[1068.33362385  229.7553192  2008.55889192 -102.8748995   541.45769947\n",
      "  606.45925756  414.98279829  602.81051442  500.18438508  492.30663558\n",
      "  508.37649961  409.13002153  730.46768043  561.0603282   294.45089723\n",
      "  602.48286746 1632.18271503 2698.88281782 3841.63152846 3892.40090903]\n",
      "True outcome:\n",
      "[1183.  189. 2327.   76.  354.  713.  204.  288.  555.  586.  446.  884.\n",
      "  524.  672.   23.  570. 1361. 5934. 2319. 1633.]\n"
     ]
    }
   ],
   "source": [
    "RMSE_List7 = []\n",
    "\n",
    "for i in alpha_list:\n",
    "    reg7 = Ridge(alpha = i)\n",
    "    reg7.fit(x_train, y_train_shift)\n",
    "    y_pred7 = reg7.predict(x_test) + y_mean\n",
    "    \n",
    "    RSS7 = np.sum((y_pred7 - y_test)**2)\n",
    "    RMSE7 = (RSS7 / 50)**0.5\n",
    "    RMSE_List7.append(RMSE7)\n",
    "\n",
    "reg7 = Ridge(alpha = alpha_list[RMSE_List7.index(min(RMSE_List7))] )\n",
    "reg7.fit(x_train, y_train_shift)\n",
    "y_pred7 = reg7.predict(x_test) + y_mean\n",
    "\n",
    "plt.plot(alpha_list, RMSE_List7)\n",
    "plt.show()\n",
    "print(\"Best test RMSE:\", min(RMSE_List7))\n",
    "print(\"Prediction using best alpha:\")\n",
    "print(y_pred7[0:20])\n",
    "print(\"True outcome:\")\n",
    "print(y_test[0:20])"
   ]
  },
  {
   "cell_type": "markdown",
   "metadata": {},
   "source": [
    "- Q9\n",
    "    - Ridge with all features standardized and y de-meaned"
   ]
  },
  {
   "cell_type": "code",
   "execution_count": 109,
   "metadata": {},
   "outputs": [
    {
     "data": {
      "image/png": "[encoded data removed]",
      "text/plain": [
       "<matplotlib.figure.Figure at 0xb56e030>"
      ]
     },
     "metadata": {
      "needs_background": "light"
     },
     "output_type": "display_data"
    },
    {
     "name": "stdout",
     "output_type": "stream",
     "text": [
      "Best test RMSE: 588.7934657527676\n",
      "Prediction using best alpha:\n",
      "[1040.50012261  278.4650498  1997.72446427  -21.14036502  554.2152571\n",
      "  602.8406419   337.52346959  599.43578526  470.29370416  500.7241404\n",
      "  511.14861912  387.7435535   700.08957652  532.22280969  255.18311778\n",
      "  653.3563783  1728.16919169 2775.00271095 3174.79225189 3141.85797609]\n",
      "True outcome:\n",
      "[1183.  189. 2327.   76.  354.  713.  204.  288.  555.  586.  446.  884.\n",
      "  524.  672.   23.  570. 1361. 5934. 2319. 1633.]\n"
     ]
    }
   ],
   "source": [
    "RMSE_List8 = []\n",
    "\n",
    "for i in alpha_list:\n",
    "    reg8 = Ridge(alpha = i)\n",
    "    reg8.fit(x_train_std, y_train_shift)\n",
    "    y_pred8 = reg8.predict(x_test_std) + y_mean\n",
    "    \n",
    "    RSS8 = np.sum((y_pred8 - y_test)**2)\n",
    "    RMSE8 = (RSS8 / 50)**0.5\n",
    "    RMSE_List8.append(RMSE8)\n",
    "\n",
    "reg8 = Ridge(alpha = alpha_list[RMSE_List8.index(min(RMSE_List8))] )\n",
    "reg8.fit(x_train_std, y_train_shift)\n",
    "y_pred8 = reg8.predict(x_test_std) + y_mean\n",
    "\n",
    "plt.plot(alpha_list, RMSE_List8)\n",
    "plt.show()\n",
    "print(\"Best test RMSE:\", min(RMSE_List8))\n",
    "print(\"Prediction using best alpha:\")\n",
    "print(y_pred8[0:20])\n",
    "print(\"True outcome:\")\n",
    "print(y_test[0:20])"
   ]
  },
  {
   "cell_type": "markdown",
   "metadata": {},
   "source": [
    "- Q10\n",
    "    - Lasso with real-number features standardized and y de-meaned"
   ]
  },
  {
   "cell_type": "code",
   "execution_count": 110,
   "metadata": {},
   "outputs": [
    {
     "name": "stderr",
     "output_type": "stream",
     "text": [
      "c:\\users\\tim_ezemnng\\appdata\\local\\programs\\python\\python36-32\\lib\\site-packages\\sklearn\\linear_model\\_coordinate_descent.py:476: ConvergenceWarning: Objective did not converge. You might want to increase the number of iterations. Duality gap: 47975917.148633406, tolerance: 322498.92375999986\n",
      "  positive)\n",
      "c:\\users\\tim_ezemnng\\appdata\\local\\programs\\python\\python36-32\\lib\\site-packages\\sklearn\\linear_model\\_coordinate_descent.py:476: ConvergenceWarning: Objective did not converge. You might want to increase the number of iterations. Duality gap: 4456630.676030278, tolerance: 322498.92375999986\n",
      "  positive)\n"
     ]
    },
    {
     "data": {
      "image/png": "[encoded data removed]",
      "text/plain": [
       "<matplotlib.figure.Figure at 0xb579170>"
      ]
     },
     "metadata": {
      "needs_background": "light"
     },
     "output_type": "display_data"
    },
    {
     "name": "stdout",
     "output_type": "stream",
     "text": [
      "Best test RMSE: 643.6665323842702\n",
      "Prediction using best alpha:\n",
      "[1241.59858493  287.88876062 2119.90674732  -16.29718326  449.10115061\n",
      "  711.14559108  398.05917415  460.15124248  645.44299753  591.43645426\n",
      "  429.966193    461.48315207  899.80928753  571.86640621  352.86521968\n",
      "  548.08532475 1741.01511056 2712.05439167 3681.45942744 3645.11403307]\n",
      "True outcome:\n",
      "[1183.  189. 2327.   76.  354.  713.  204.  288.  555.  586.  446.  884.\n",
      "  524.  672.   23.  570. 1361. 5934. 2319. 1633.]\n"
     ]
    }
   ],
   "source": [
    "RMSE_List9 = []\n",
    "\n",
    "for i in alpha_list:\n",
    "    reg9 = Lasso(alpha = i, tol = 0.001)\n",
    "    reg9.fit(x_train_std2, y_train_shift)\n",
    "    y_pred9 = reg9.predict(x_test_std2) + y_mean\n",
    "    \n",
    "    RSS9 = np.sum((y_pred9 - y_test)**2)\n",
    "    RMSE9 = (RSS9 / 50)**0.5\n",
    "    RMSE_List9.append(RMSE9)\n",
    "\n",
    "reg9 = Lasso(alpha = alpha_list[RMSE_List9.index(min(RMSE_List9))], max_iter = 10000000 )\n",
    "reg9.fit(x_train_std2, y_train_shift)\n",
    "y_pred9 = reg9.predict(x_test_std2) + y_mean\n",
    "\n",
    "plt.plot(alpha_list, RMSE_List9)\n",
    "plt.show()\n",
    "print(\"Best test RMSE:\", min(RMSE_List9))\n",
    "print(\"Prediction using best alpha:\")\n",
    "print(y_pred9[0:20])\n",
    "print(\"True outcome:\")\n",
    "print(y_test[0:20])"
   ]
  },
  {
   "cell_type": "markdown",
   "metadata": {},
   "source": [
    "- Q11\n",
    "    - 沒有做Regularization的OLS預測表現較差\n",
    "    - 表現最好的是將所有特徵都標準化、將y都de-mean的Ridge Regression\n",
    "        - 在這個case調整alpha時RMSE的變動呈U字型, 容易找到一個最好的alpha"
   ]
  },
  {
   "cell_type": "code",
   "execution_count": null,
   "metadata": {},
   "outputs": [],
   "source": []
  }
 ],
 "metadata": {
  "kernelspec": {
   "display_name": "Python 3",
   "language": "python",
   "name": "python3"
  },
  "language_info": {
   "codemirror_mode": {
    "name": "ipython",
    "version": 3
   },
   "file_extension": ".py",
   "mimetype": "text/x-python",
   "name": "python",
   "nbconvert_exporter": "python",
   "pygments_lexer": "ipython3",
   "version": "3.6.2"
  }
 },
 "nbformat": 4,
 "nbformat_minor": 4
}
