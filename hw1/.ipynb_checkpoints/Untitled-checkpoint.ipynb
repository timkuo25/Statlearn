{
 "cells": [
  {
   "cell_type": "markdown",
   "metadata": {},
   "source": [
    "## 第一題\n",
    "- Q1-1: 建立class myknn_regressor\n",
    "    - contructor: 設置k與模式\n",
    "    - fit()\n",
    "        - 紀錄資料點，並標準化所有feature\n",
    "    - predict()\n",
    "        - 預測資料點\n",
    "        - 根據模式決定是否移除outliers\n",
    "        - 與training data的距離使用L1 norm"
   ]
  },
  {
   "cell_type": "code",
   "execution_count": 41,
   "metadata": {},
   "outputs": [],
   "source": [
    "import pickle\n",
    "import numpy as np\n",
    "from sklearn.neighbors import KNeighborsRegressor\n",
    "import matplotlib.pyplot as plt\n",
    "\n",
    "class myknn_regressor:\n",
    "\tk = 0\n",
    "\tmode = \"\"\n",
    "\tX_tr = np.array([])\n",
    "\tY_tr = np.array([])\n",
    "\tX_mean = np.array([])\n",
    "\tX_std = np.array([])\n",
    "\t\n",
    "\tdef __init__(self, k, mode):\n",
    "\t\tself.k = k\n",
    "\t\tself.mode = mode\n",
    "\t\t\n",
    "\tdef fit(self, X_train, Y_train):\n",
    "\t\tX_t = np.transpose(X_train)\n",
    "\t\tfor i in range(0, 90):\n",
    "\t\t\tmean = np.mean(X_t[i])\n",
    "\t\t\tstd = np.std(X_t[i])\n",
    "\t\t\tX_t[i] = (X_t[i] - mean) / std\n",
    "\t\t\tself.X_mean = np.append(self.X_mean, mean)\n",
    "\t\t\tself.X_std = np.append(self.X_std, std)\n",
    "\t\tself.X_tr = np.transpose(X_t)\n",
    "\t\tself.Y_tr = Y_train\n",
    "\t\t\n",
    "\tdef predict(self, X_test):\n",
    "\t\tX_t = np.array([])\n",
    "\t\tsize_arr = np.array([])\n",
    "\t\tX_t = X_test - self.X_mean\n",
    "\t\tX_t = np.divide(X_t, self.X_std)\n",
    "\t\tfor i in range(0, 5000):\n",
    "\t\t\tsize_arr = np.append(size_arr, np.sum(np.abs(X_t - X_train[i])))\n",
    "\t\t\t# size_arr = np.append(size_arr, np.sum(np.abs(X_test[j] - X_train[i])))\n",
    "\t\tindex_list = []\n",
    "\t\tfor i in range(0, self.k):\n",
    "\t\t\tindex = np.argmin(size_arr)\n",
    "\t\t\tindex_list.append(index)\n",
    "\t\t\tsize_arr[index] = float(\"inf\")\n",
    "\t\t\t\n",
    "\t\ty_predict = 0\n",
    "\t\tif self.mode == \"equal_weight\" or self.k < 10:\n",
    "\t\t\tfor i in index_list:\n",
    "\t\t\t\ty_predict += self.Y_tr[i]\n",
    "\t\t\ty_predict /= self.k\n",
    "\t\telif self.mode == \"remove_outliers\":\n",
    "\t\t\ty_predict_list = np.array([])\n",
    "\t\t\tfor i in index_list:\n",
    "\t\t\t\ty_predict_list = np.append(y_predict_list, self.Y_tr[i])\n",
    "\t\t\tQ1 = np.quantile(y_predict_list, 0.25)\n",
    "\t\t\tQ3 = np.quantile(y_predict_list, 0.75)\n",
    "\t\t\tIQR = Q3 - Q1\n",
    "\t\t\tlower = Q1 - 1.5*IQR\n",
    "\t\t\tupper = Q3 + 1.5*IQR\n",
    "\t\t\tlist_remove_outliers = []\n",
    "\t\t\t\n",
    "\t\t\tcount = 0\n",
    "\t\t\tfor i in range(0, self.k):\n",
    "\t\t\t\tif y_predict_list[i] < lower or y_predict_list[i] > upper: continue\n",
    "\t\t\t\telse:\n",
    "\t\t\t\t\tcount += 1\n",
    "\t\t\t\t\tlist_remove_outliers.append(y_predict_list[i])\n",
    "\t\t\tfor i in list_remove_outliers:\n",
    "\t\t\t\ty_predict += i\n",
    "\t\t\ty_predict /= count\n",
    "\t\treturn y_predict"
   ]
  },
  {
   "cell_type": "markdown",
   "metadata": {},
   "source": [
    "- 讀取資料"
   ]
  },
  {
   "cell_type": "code",
   "execution_count": 42,
   "metadata": {},
   "outputs": [],
   "source": [
    "file = open(\"msd_data1.pickle\", \"rb\")\n",
    "pk = pickle.load(file)\n",
    "\n",
    "X_train = np.array(pk[\"X_train\"])\n",
    "Y_train = np.array(pk[\"Y_train\"])\n",
    "X_test = np.array(pk[\"X_test\"])\n",
    "Y_test = np.array(pk[\"Y_test\"])"
   ]
  },
  {
   "cell_type": "markdown",
   "metadata": {},
   "source": [
    "- Q1-2: k = 20, equal_weight\n",
    "    - 列出前20筆預測值\n",
    "    - 列出RMSE"
   ]
  },
  {
   "cell_type": "code",
   "execution_count": 10,
   "metadata": {},
   "outputs": [
    {
     "name": "stdout",
     "output_type": "stream",
     "text": [
      "1994.85\n",
      "1992.5\n",
      "2001.55\n",
      "1986.7\n",
      "1990.65\n",
      "1997.1\n",
      "1993.15\n",
      "1990.7\n",
      "2001.0\n",
      "2003.15\n",
      "2001.25\n",
      "1999.45\n",
      "1997.25\n",
      "1998.2\n",
      "1995.2\n",
      "1995.35\n",
      "1990.4\n",
      "2002.2\n",
      "2001.6\n",
      "1993.75\n",
      "RMSE = 10.214277874622372\n"
     ]
    }
   ],
   "source": [
    "myknn = myknn_regressor(20, \"equal_weight\")\n",
    "myknn.fit(X_train, Y_train)\n",
    "MSE = 0\n",
    "for i in range(0, 3000):\n",
    "\ty_predict = myknn.predict(X_test[i])\n",
    "\tif i < 20: print(y_predict)\n",
    "\tMSE += (y_predict - Y_test[i])**2\n",
    "MSE /= 3000\n",
    "RMSE = MSE ** 0.5\n",
    "print(\"RMSE = \" + str(RMSE))"
   ]
  },
  {
   "cell_type": "markdown",
   "metadata": {},
   "source": [
    "- Q1-3, k = 20, remove_outliers\n",
    "    - 列出前20筆預測值\n",
    "    - 列出 RMSE"
   ]
  },
  {
   "cell_type": "code",
   "execution_count": 16,
   "metadata": {},
   "outputs": [
    {
     "name": "stdout",
     "output_type": "stream",
     "text": [
      "1996.2631578947369\n",
      "1992.5\n",
      "2001.55\n",
      "1986.7\n",
      "1990.65\n",
      "1997.1\n",
      "1993.15\n",
      "1990.7\n",
      "2002.2631578947369\n",
      "2003.15\n",
      "2001.25\n",
      "2001.5555555555557\n",
      "2000.4444444444443\n",
      "1998.2\n",
      "1995.2\n",
      "1995.35\n",
      "1990.4\n",
      "2004.611111111111\n",
      "2001.6\n",
      "1993.75\n",
      "RMSE = 10.173395687255912\n"
     ]
    }
   ],
   "source": [
    "myknn = myknn_regressor(20, \"remove_outliers\")\n",
    "myknn.fit(X_train, Y_train)\n",
    "MSE = 0\n",
    "for i in range(0, 3000):\n",
    "\ty_predict = myknn.predict(X_test[i])\n",
    "\tif i < 20: print(y_predict)\n",
    "\tMSE += (y_predict - Y_test[i])**2\n",
    "MSE /= 3000\n",
    "RMSE = MSE ** 0.5\n",
    "print(\"RMSE = \" + str(RMSE))"
   ]
  },
  {
   "cell_type": "markdown",
   "metadata": {},
   "source": [
    "- 結論\n",
    "    - 去除極端值的RMSE較小"
   ]
  },
  {
   "cell_type": "markdown",
   "metadata": {},
   "source": [
    "## 第二題: Tuning Hyperparameters\n",
    "- First case\n",
    "    - KNeighborsRegressor\n",
    "    - 標準化feature"
   ]
  },
  {
   "cell_type": "code",
   "execution_count": 43,
   "metadata": {},
   "outputs": [
    {
     "data": {
      "image/png": "[encoded data removed]",
      "text/plain": [
       "<matplotlib.figure.Figure at 0xa13abf0>"
      ]
     },
     "metadata": {
      "needs_background": "light"
     },
     "output_type": "display_data"
    }
   ],
   "source": [
    "X_train = np.transpose(X_train)\n",
    "X_mean = np.array([])\n",
    "X_std = np.array([])\n",
    "for i in range(0, 90):\n",
    "\tmean = np.mean(X_train[i])\n",
    "\tstd = np.std(X_train[i])\n",
    "\tX_train[i] = (X_train[i] - mean) / std\n",
    "\tX_mean = np.append(X_mean, mean)\n",
    "\tX_std = np.append(X_std, std)\n",
    "X_train = np.transpose(X_train)\n",
    "\n",
    "k_list = [1, 2, 3, 4, 5, 10, 15, 20, 25, 30, 35, 40, 45, 50, 55, 60, 80, 100, 120, 140, 160, 180, 200]\n",
    "RMSE_list1 = []\n",
    "for k in k_list:\n",
    "\tneigh = KNeighborsRegressor(n_neighbors = k)\n",
    "\tneigh.fit(X_train, Y_train)\n",
    "\tMSE = 0\n",
    "\tfor i in range(0, 3000):\n",
    "\t\ty_predict = neigh.predict(np.array(X_test[i]).reshape(1, -1))\n",
    "\t\tMSE += (y_predict[0] - Y_test[i])**2\n",
    "\tMSE /= 3000\n",
    "\tRMSE = MSE ** 0.5\n",
    "\tRMSE_list1.append(RMSE)\n",
    "plt.plot(k_list, RMSE_list1)\n",
    "plt.show()"
   ]
  },
  {
   "cell_type": "markdown",
   "metadata": {},
   "source": [
    "- Second case\n",
    "    - KNeighborsRegressor\n",
    "    - 不標準化feature"
   ]
  },
  {
   "cell_type": "code",
   "execution_count": 44,
   "metadata": {},
   "outputs": [
    {
     "data": {
      "image/png": "[encoded data removed]",
      "text/plain": [
       "<matplotlib.figure.Figure at 0xd469510>"
      ]
     },
     "metadata": {
      "needs_background": "light"
     },
     "output_type": "display_data"
    }
   ],
   "source": [
    "X_train = np.array(pk[\"X_train\"])\n",
    "Y_train = np.array(pk[\"Y_train\"])\n",
    "X_test = np.array(pk[\"X_test\"])\n",
    "Y_test = np.array(pk[\"Y_test\"])\n",
    "\n",
    "k_list = [1, 2, 3, 4, 5, 10, 15, 20, 25, 30, 35, 40, 45, 50, 55, 60, 80, 100, 120, 140, 160, 180, 200]\n",
    "RMSE_list2 = []\n",
    "for k in k_list:\n",
    "\tneigh = KNeighborsRegressor(n_neighbors = k)\n",
    "\tneigh.fit(X_train, Y_train)\n",
    "\tMSE = 0\n",
    "\tfor i in range(0, 3000):\n",
    "\t\ty_predict = neigh.predict(np.array(X_test[i]).reshape(1, -1))\n",
    "\t\tMSE += (y_predict[0] - Y_test[i])**2\n",
    "\tMSE /= 3000\n",
    "\tRMSE = MSE ** 0.5\n",
    "\tRMSE_list2.append(RMSE)\n",
    "plt.plot(k_list, RMSE_list2)\n",
    "plt.show()"
   ]
  },
  {
   "cell_type": "markdown",
   "metadata": {},
   "source": [
    "- Third case\n",
    "    - myknn_regressor\n",
    "    - 標準化feature"
   ]
  },
  {
   "cell_type": "code",
   "execution_count": null,
   "metadata": {},
   "outputs": [],
   "source": [
    "k_list = [1, 2, 3, 4, 5, 10, 15, 20, 25, 30, 35, 40, 45, 50, 55, 60, 80, 100, 120, 140, 160, 180, 200]\n",
    "RMSE_list3 = []\n",
    "for k in k_list:\n",
    "\tmyknn = myknn_regressor(k, \"remove_outliers\")\n",
    "\tmyknn.fit(X_train, Y_train)\n",
    "\tMSE = 0\n",
    "\tfor i in range(0, 3000):\n",
    "\t\ty_predict = myknn.predict(X_test[i])\n",
    "\t\tMSE += (y_predict - Y_test[i])**2\n",
    "\tMSE /= 3000\n",
    "\tRMSE = MSE ** 0.5\n",
    "\tRMSE_list3.append(RMSE)\n",
    "plt.plot(k_list, RMSE_list3)\n",
    "plt.show()"
   ]
  },
  {
   "cell_type": "markdown",
   "metadata": {},
   "source": [
    "- Plotting the curves together"
   ]
  },
  {
   "cell_type": "code",
   "execution_count": null,
   "metadata": {},
   "outputs": [],
   "source": [
    "plt.plot(k_list, RMSE_list1, color = \"blue\", label = \"case 1\")\n",
    "plt.plot(k_list, RMSE_list2, color = \"green\", label = \"case 2\")\n",
    "plt.plot(k_list, RMSE_list3, color = \"red\", label = \"case 3\")\n",
    "plt.legend()"
   ]
  },
  {
   "cell_type": "markdown",
   "metadata": {},
   "source": [
    "- 結論\n",
    "    - 三個case中k與RMSE的關係大致呈U型曲線\n",
    "    - Case 1與 Case 2相比，將feature標準化後表現比較好\n",
    "    - Case 3在k = 3附近有最局部最小的RMSE，而後小幅上升，之後隨著k增加持續下降"
   ]
  }
 ],
 "metadata": {
  "kernelspec": {
   "display_name": "Python 3",
   "language": "python",
   "name": "python3"
  },
  "language_info": {
   "codemirror_mode": {
    "name": "ipython",
    "version": 3
   },
   "file_extension": ".py",
   "mimetype": "text/x-python",
   "name": "python",
   "nbconvert_exporter": "python",
   "pygments_lexer": "ipython3",
   "version": "3.6.2"
  }
 },
 "nbformat": 4,
 "nbformat_minor": 4
}
